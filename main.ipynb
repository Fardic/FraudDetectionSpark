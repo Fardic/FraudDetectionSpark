{
 "cells": [
  {
   "cell_type": "code",
   "execution_count": 1,
   "metadata": {},
   "outputs": [],
   "source": [
    "import numpy as np\n",
    "import pyspark.sql.functions as F\n",
    "from pyspark.sql import SparkSession\n",
    "from pyspark.ml.feature import OneHotEncoder, StringIndexer\n",
    "from pyspark.ml import Pipeline\n",
    "from pyspark.ml.classification import LogisticRegression\n",
    "from pyspark.ml.feature import VectorAssembler\n",
    "from pyspark.mllib.evaluation import MulticlassMetrics\n",
    "from pyspark.sql.types import FloatType"
   ]
  },
  {
   "cell_type": "code",
   "execution_count": 2,
   "metadata": {},
   "outputs": [],
   "source": [
    "spark = SparkSession.builder.master(\"local[*]\").getOrCreate()\n",
    "spark.conf.set(\"spark.sql.repl.eagerEval.enabled\", True)# Property used to format output tables better\n",
    "\n",
    "df = spark.read.csv(\"./data/data.csv\", inferSchema=True, header=True)"
   ]
  },
  {
   "cell_type": "code",
   "execution_count": 3,
   "metadata": {},
   "outputs": [
    {
     "name": "stdout",
     "output_type": "stream",
     "text": [
      "root\n",
      " |-- step: integer (nullable = true)\n",
      " |-- type: string (nullable = true)\n",
      " |-- amount: double (nullable = true)\n",
      " |-- nameOrig: string (nullable = true)\n",
      " |-- oldbalanceOrg: double (nullable = true)\n",
      " |-- newbalanceOrig: double (nullable = true)\n",
      " |-- nameDest: string (nullable = true)\n",
      " |-- oldbalanceDest: double (nullable = true)\n",
      " |-- newbalanceDest: double (nullable = true)\n",
      " |-- isFraud: integer (nullable = true)\n",
      " |-- isFlaggedFraud: integer (nullable = true)\n",
      "\n"
     ]
    }
   ],
   "source": [
    "df.printSchema()"
   ]
  },
  {
   "cell_type": "code",
   "execution_count": 4,
   "metadata": {},
   "outputs": [
    {
     "name": "stdout",
     "output_type": "stream",
     "text": [
      "+----+--------+--------+-----------+-------------+--------------+-----------+--------------+--------------+-------+--------------+\n",
      "|step|    type|  amount|   nameOrig|oldbalanceOrg|newbalanceOrig|   nameDest|oldbalanceDest|newbalanceDest|isFraud|isFlaggedFraud|\n",
      "+----+--------+--------+-----------+-------------+--------------+-----------+--------------+--------------+-------+--------------+\n",
      "|   1| PAYMENT| 9839.64|C1231006815|     170136.0|     160296.36|M1979787155|           0.0|           0.0|      0|             0|\n",
      "|   1| PAYMENT| 1864.28|C1666544295|      21249.0|      19384.72|M2044282225|           0.0|           0.0|      0|             0|\n",
      "|   1|TRANSFER|   181.0|C1305486145|        181.0|           0.0| C553264065|           0.0|           0.0|      1|             0|\n",
      "|   1|CASH_OUT|   181.0| C840083671|        181.0|           0.0|  C38997010|       21182.0|           0.0|      1|             0|\n",
      "|   1| PAYMENT|11668.14|C2048537720|      41554.0|      29885.86|M1230701703|           0.0|           0.0|      0|             0|\n",
      "+----+--------+--------+-----------+-------------+--------------+-----------+--------------+--------------+-------+--------------+\n",
      "only showing top 5 rows\n",
      "\n"
     ]
    }
   ],
   "source": [
    "df.show(5)"
   ]
  },
  {
   "cell_type": "code",
   "execution_count": 5,
   "metadata": {},
   "outputs": [
    {
     "data": {
      "text/plain": [
       "6362620"
      ]
     },
     "execution_count": 5,
     "metadata": {},
     "output_type": "execute_result"
    }
   ],
   "source": [
    "df.count()"
   ]
  },
  {
   "cell_type": "code",
   "execution_count": 6,
   "metadata": {},
   "outputs": [
    {
     "data": {
      "text/html": [
       "<table border='1'>\n",
       "<tr><th>type</th></tr>\n",
       "<tr><td>TRANSFER</td></tr>\n",
       "<tr><td>CASH_IN</td></tr>\n",
       "<tr><td>CASH_OUT</td></tr>\n",
       "<tr><td>PAYMENT</td></tr>\n",
       "<tr><td>DEBIT</td></tr>\n",
       "</table>\n"
      ],
      "text/plain": [
       "+--------+\n",
       "|    type|\n",
       "+--------+\n",
       "|TRANSFER|\n",
       "| CASH_IN|\n",
       "|CASH_OUT|\n",
       "| PAYMENT|\n",
       "|   DEBIT|\n",
       "+--------+"
      ]
     },
     "execution_count": 6,
     "metadata": {},
     "output_type": "execute_result"
    }
   ],
   "source": [
    "df.select(\"type\").distinct()"
   ]
  },
  {
   "cell_type": "code",
   "execution_count": 7,
   "metadata": {},
   "outputs": [
    {
     "data": {
      "text/plain": [
       "2722362"
      ]
     },
     "execution_count": 7,
     "metadata": {},
     "output_type": "execute_result"
    }
   ],
   "source": [
    "df.select(\"nameDest\").distinct().count()"
   ]
  },
  {
   "cell_type": "code",
   "execution_count": 8,
   "metadata": {},
   "outputs": [
    {
     "data": {
      "text/plain": [
       "[Row(step=743), Row(step=742), Row(step=741), Row(step=740), Row(step=739)]"
      ]
     },
     "execution_count": 8,
     "metadata": {},
     "output_type": "execute_result"
    }
   ],
   "source": [
    "df.select(\"step\").distinct().orderBy(\"step\", ascending=False).head(5)"
   ]
  },
  {
   "cell_type": "code",
   "execution_count": 9,
   "metadata": {},
   "outputs": [
    {
     "data": {
      "text/plain": [
       "6353307"
      ]
     },
     "execution_count": 9,
     "metadata": {},
     "output_type": "execute_result"
    }
   ],
   "source": [
    "df.select(\"nameOrig\").distinct().count()"
   ]
  },
  {
   "cell_type": "code",
   "execution_count": 10,
   "metadata": {},
   "outputs": [
    {
     "data": {
      "text/plain": [
       "[Row(step=1, type='PAYMENT', amount=9839.64, oldbalanceOrg=170136.0, newbalanceOrig=160296.36, oldbalanceDest=0.0, newbalanceDest=0.0, isFraud=0),\n",
       " Row(step=1, type='PAYMENT', amount=1864.28, oldbalanceOrg=21249.0, newbalanceOrig=19384.72, oldbalanceDest=0.0, newbalanceDest=0.0, isFraud=0),\n",
       " Row(step=1, type='TRANSFER', amount=181.0, oldbalanceOrg=181.0, newbalanceOrig=0.0, oldbalanceDest=0.0, newbalanceDest=0.0, isFraud=1),\n",
       " Row(step=1, type='CASH_OUT', amount=181.0, oldbalanceOrg=181.0, newbalanceOrig=0.0, oldbalanceDest=21182.0, newbalanceDest=0.0, isFraud=1),\n",
       " Row(step=1, type='PAYMENT', amount=11668.14, oldbalanceOrg=41554.0, newbalanceOrig=29885.86, oldbalanceDest=0.0, newbalanceDest=0.0, isFraud=0)]"
      ]
     },
     "execution_count": 10,
     "metadata": {},
     "output_type": "execute_result"
    }
   ],
   "source": [
    "df = df.select(\"step\", \"type\", \"amount\", \"oldbalanceOrg\", \"newbalanceOrig\", \"oldbalanceDest\", \"newbalanceDest\", \"isFraud\")\n",
    "df.head(5)"
   ]
  },
  {
   "cell_type": "code",
   "execution_count": 11,
   "metadata": {},
   "outputs": [],
   "source": [
    "string_indexer = [StringIndexer(inputCol=\"type\",\n",
    "                                outputCol=\"type\" + \"_StringIndexer\",\n",
    "                                handleInvalid=\"skip\")]\n",
    "                        \n",
    "one_hot_encoder = [OneHotEncoder(inputCols=[\"type_StringIndexer\"],\n",
    "                                 outputCols=[\"type_OneHotEncoder\"])]\n",
    "\n",
    "assemblerInput = [\"step\", \"amount\", \"oldbalanceOrg\", \"newbalanceOrig\", \"oldbalanceDest\", \"newbalanceDest\", \"isFraud\", \"type_OneHotEncoder\"]\n",
    "\n",
    "vector_assembler = VectorAssembler(inputCols=assemblerInput,\n",
    "                                   outputCol=\"VectorAssembler_features\")\n",
    "                    \n",
    "stages = []\n",
    "stages += string_indexer\n",
    "stages += one_hot_encoder\n",
    "stages += [vector_assembler]"
   ]
  },
  {
   "cell_type": "code",
   "execution_count": 12,
   "metadata": {},
   "outputs": [],
   "source": [
    "train, test = df.randomSplit([0.7, 0.3], seed=5624)"
   ]
  },
  {
   "cell_type": "code",
   "execution_count": 13,
   "metadata": {},
   "outputs": [
    {
     "name": "stdout",
     "output_type": "stream",
     "text": [
      "+----+-------+-------+-------------+--------------+--------------+--------------+-------+------------------+------------------+------------------------+\n",
      "|step|   type| amount|oldbalanceOrg|newbalanceOrig|oldbalanceDest|newbalanceDest|isFraud|type_StringIndexer|type_OneHotEncoder|VectorAssembler_features|\n",
      "+----+-------+-------+-------------+--------------+--------------+--------------+-------+------------------+------------------+------------------------+\n",
      "|   1|CASH_IN| 270.78|   4184966.65|    4185237.43|        3019.0|           0.0|      0|               2.0|     (4,[2],[1.0])|    (11,[0,1,2,3,4,9]...|\n",
      "|   1|CASH_IN| 484.57|   5422437.76|    5422922.33|    5638778.53|    5579568.65|      0|               2.0|     (4,[2],[1.0])|    [1.0,484.57,54224...|\n",
      "|   1|CASH_IN| 783.31|   8150331.93|    8151115.24|       2013.12|       1229.81|      0|               2.0|     (4,[2],[1.0])|    [1.0,783.31,81503...|\n",
      "|   1|CASH_IN| 863.08|   9290756.54|    9291619.62|       5577.88|        4714.8|      0|               2.0|     (4,[2],[1.0])|    [1.0,863.08,92907...|\n",
      "|   1|CASH_IN|1076.27|   3538789.28|    3539865.55|      22774.25|      23539.55|      0|               2.0|     (4,[2],[1.0])|    [1.0,1076.27,3538...|\n",
      "|   1|CASH_IN|1271.77|    6973823.5|    6975095.27|     697456.73|    2719172.89|      0|               2.0|     (4,[2],[1.0])|    [1.0,1271.77,6973...|\n",
      "|   1|CASH_IN|2099.59|   7096554.61|     7098654.2|      40471.79|           0.0|      0|               2.0|     (4,[2],[1.0])|    (11,[0,1,2,3,4,9]...|\n",
      "|   1|CASH_IN|2643.45|   6434890.26|    6437533.71|       49974.0|       1891.79|      0|               2.0|     (4,[2],[1.0])|    [1.0,2643.45,6434...|\n",
      "|   1|CASH_IN|2673.64|    768815.91|     771489.55|     135676.32|        817.21|      0|               2.0|     (4,[2],[1.0])|    [1.0,2673.64,7688...|\n",
      "|   1|CASH_IN|5763.99|   1276098.29|    1281862.28|      24632.95|      46462.23|      0|               2.0|     (4,[2],[1.0])|    [1.0,5763.99,1276...|\n",
      "+----+-------+-------+-------------+--------------+--------------+--------------+-------+------------------+------------------+------------------------+\n",
      "only showing top 10 rows\n",
      "\n"
     ]
    }
   ],
   "source": [
    "pipeline = Pipeline().setStages(stages)\n",
    "pipe_model = pipeline.fit(train)\n",
    "\n",
    "train_data_pipe = pipe_model.transform(train)\n",
    "test_data_pipe = pipe_model.transform(test)\n",
    "train_data_pipe.show(10)"
   ]
  },
  {
   "cell_type": "code",
   "execution_count": 14,
   "metadata": {},
   "outputs": [],
   "source": [
    "train_data = train_data_pipe.select(F.col(\"VectorAssembler_features\").alias(\"features\"),\n",
    "                                    F.col(\"isFraud\").alias(\"label\"))\n",
    "\n",
    "test_data = test_data_pipe.select(F.col(\"VectorAssembler_features\").alias(\"features\"),\n",
    "                                  F.col(\"isFraud\").alias(\"label\"))"
   ]
  },
  {
   "cell_type": "code",
   "execution_count": 15,
   "metadata": {},
   "outputs": [
    {
     "name": "stdout",
     "output_type": "stream",
     "text": [
      "Training Area Under ROC: 0.9996194116684382\n",
      "Training Accuracy: 1.0\n"
     ]
    }
   ],
   "source": [
    "lr_spark = LogisticRegression().fit(train_data)\n",
    "\n",
    "print(f\"Training Area Under ROC: {lr_spark.summary.areaUnderROC}\")\n",
    "print(f\"Training Accuracy: {lr_spark.summary.accuracy}\")\n",
    "pred = lr_spark.evaluate(test_data)"
   ]
  },
  {
   "cell_type": "code",
   "execution_count": 16,
   "metadata": {},
   "outputs": [
    {
     "name": "stdout",
     "output_type": "stream",
     "text": [
      "Test Area Under ROC: 0.9995965438127711\n",
      "Test Accuracy: 1.0\n"
     ]
    }
   ],
   "source": [
    "print(f\"Test Area Under ROC: {pred.areaUnderROC}\")\n",
    "print(f\"Test Accuracy: {pred.accuracy}\")"
   ]
  },
  {
   "cell_type": "code",
   "execution_count": 17,
   "metadata": {},
   "outputs": [
    {
     "name": "stderr",
     "output_type": "stream",
     "text": [
      "E:\\anaconda3\\envs\\SparkEnv\\lib\\site-packages\\pyspark\\sql\\context.py:125: FutureWarning: Deprecated in 3.0.0. Use SparkSession.builder.getOrCreate() instead.\n",
      "  warnings.warn(\n"
     ]
    }
   ],
   "source": [
    "metrics = MulticlassMetrics(pred.predictions.select(\"prediction\", \"label\").withColumn(\"label\", F.col(\"prediction\").cast(FloatType())).rdd.map(tuple))"
   ]
  },
  {
   "cell_type": "code",
   "execution_count": 18,
   "metadata": {},
   "outputs": [],
   "source": [
    "cm = metrics.confusionMatrix().toArray()"
   ]
  },
  {
   "cell_type": "code",
   "execution_count": 19,
   "metadata": {},
   "outputs": [
    {
     "data": {
      "text/plain": [
       "array([[1906031.,       0.],\n",
       "       [      0.,    2438.]])"
      ]
     },
     "execution_count": 19,
     "metadata": {},
     "output_type": "execute_result"
    }
   ],
   "source": [
    "cm"
   ]
  },
  {
   "cell_type": "code",
   "execution_count": null,
   "metadata": {},
   "outputs": [],
   "source": []
  }
 ],
 "metadata": {
  "interpreter": {
   "hash": "d0f15973c0f440876f4ce1293071deb35cc5637c28f8ed9056df89c70327c21a"
  },
  "kernelspec": {
   "display_name": "Python 3.9.12 ('SparkEnv')",
   "language": "python",
   "name": "python3"
  },
  "language_info": {
   "codemirror_mode": {
    "name": "ipython",
    "version": 3
   },
   "file_extension": ".py",
   "mimetype": "text/x-python",
   "name": "python",
   "nbconvert_exporter": "python",
   "pygments_lexer": "ipython3",
   "version": "3.9.12"
  },
  "orig_nbformat": 4
 },
 "nbformat": 4,
 "nbformat_minor": 2
}
